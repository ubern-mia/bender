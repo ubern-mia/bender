{
 "cells": [
  {
   "cell_type": "markdown",
   "metadata": {},
   "source": [
    "# Exploring a set of DICOM files\n",
    "\n",
    "This notebook uses the pydicom library to read and explore a set of DICOM image data files, and demonstrates some of the best practices we recommend in the BENDER series."
   ]
  },
  {
   "cell_type": "code",
   "execution_count": 1,
   "metadata": {},
   "outputs": [],
   "source": [
    "import pydicom\n",
    "from pydicom.data import get_testdata_files\n",
    "import matplotlib.pyplot as plt"
   ]
  },
  {
   "cell_type": "markdown",
   "metadata": {},
   "source": [
    "Read a set of DICOM files from the test data location built-into pydicom."
   ]
  },
  {
   "cell_type": "code",
   "execution_count": 2,
   "metadata": {},
   "outputs": [],
   "source": [
    "fpath = get_testdata_files(\"*.dcm\")\n",
    "len(fpath)\n",
    "test_file = pydicom.dcmread(fpath[3])"
   ]
  },
  {
   "cell_type": "markdown",
   "metadata": {},
   "source": [
    "Print metadata from the DICOM file - this is very important for medical images: beyond just image pixels/voxels, the metadata contains vital information about patient position, relation to physical dimensions, orientation and standards for acquisition, and even personal details about the patient. Ideally, these personally identifiable details must be anonymized. "
   ]
  },
  {
   "cell_type": "code",
   "execution_count": 3,
   "metadata": {},
   "outputs": [
    {
     "name": "stdout",
     "output_type": "stream",
     "text": [
      "Dataset.file_meta -------------------------------\n",
      "(0002, 0000) File Meta Information Group Length  UL: 206\n",
      "(0002, 0001) File Meta Information Version       OB: b'\\x00\\x01'\n",
      "(0002, 0002) Media Storage SOP Class UID         UI: MR Image Storage\n",
      "(0002, 0003) Media Storage SOP Instance UID      UI: 1.3.6.1.4.1.5962.1.1.4.1.1.20040826185059.5457\n",
      "(0002, 0010) Transfer Syntax UID                 UI: Explicit VR Big Endian\n",
      "(0002, 0012) Implementation Class UID            UI: 1.2.276.0.7230010.3.0.3.6.3\n",
      "(0002, 0013) Implementation Version Name         SH: 'OFFIS_DCMTK_363'\n",
      "(0002, 0016) Source Application Entity Title     AE: 'CLUNIE1'\n",
      "-------------------------------------------------\n",
      "(0008, 0008) Image Type                          CS: ['DERIVED', 'SECONDARY', 'OTHER']\n",
      "(0008, 0012) Instance Creation Date              DA: '20040826'\n",
      "(0008, 0013) Instance Creation Time              TM: '185434'\n",
      "(0008, 0014) Instance Creator UID                UI: 1.3.6.1.4.1.5962.3\n",
      "(0008, 0016) SOP Class UID                       UI: MR Image Storage\n",
      "(0008, 0018) SOP Instance UID                    UI: 1.3.6.1.4.1.5962.1.1.4.1.1.20040826185059.5457\n",
      "(0008, 0020) Study Date                          DA: '20040826'\n",
      "(0008, 0021) Series Date                         DA: ''\n",
      "(0008, 0022) Acquisition Date                    DA: ''\n",
      "(0008, 0030) Study Time                          TM: '185059'\n",
      "(0008, 0031) Series Time                         TM: ''\n",
      "(0008, 0032) Acquisition Time                    TM: ''\n",
      "(0008, 0050) Accession Number                    SH: ''\n",
      "(0008, 0060) Modality                            CS: 'MR'\n",
      "(0008, 0070) Manufacturer                        LO: 'TOSHIBA_MEC'\n",
      "(0008, 0080) Institution Name                    LO: 'TOSHIBA'\n",
      "(0008, 0090) Referring Physician's Name          PN: ''\n",
      "(0008, 0201) Timezone Offset From UTC            SH: '-0400'\n",
      "(0008, 1010) Station Name                        SH: '000000000'\n",
      "(0008, 1060) Name of Physician(s) Reading Study  PN: '----'\n",
      "(0008, 1070) Operators' Name                     PN: '----'\n",
      "(0008, 1090) Manufacturer's Model Name           LO: 'MRT50H1'\n",
      "(0010, 0010) Patient's Name                      PN: 'CompressedSamples^MR1'\n",
      "(0010, 0020) Patient ID                          LO: '4MR1'\n",
      "(0010, 0030) Patient's Birth Date                DA: ''\n",
      "(0010, 0040) Patient's Sex                       CS: 'F'\n",
      "(0010, 1020) Patient's Size                      DS: None\n",
      "(0010, 1030) Patient's Weight                    DS: '80.0'\n",
      "(0018, 0010) Contrast/Bolus Agent                LO: ''\n",
      "(0018, 0020) Scanning Sequence                   CS: 'SE'\n",
      "(0018, 0021) Sequence Variant                    CS: 'NONE'\n",
      "(0018, 0022) Scan Options                        CS: ''\n",
      "(0018, 0023) MR Acquisition Type                 CS: '3D'\n",
      "(0018, 0050) Slice Thickness                     DS: '0.8'\n",
      "(0018, 0080) Repetition Time                     DS: '4000.0'\n",
      "(0018, 0081) Echo Time                           DS: '240.0'\n",
      "(0018, 0083) Number of Averages                  DS: '1.0'\n",
      "(0018, 0084) Imaging Frequency                   DS: '63.924339'\n",
      "(0018, 0085) Imaged Nucleus                      SH: 'H'\n",
      "(0018, 0086) Echo Number(s)                      IS: '1'\n",
      "(0018, 0091) Echo Train Length                   IS: None\n",
      "(0018, 1000) Device Serial Number                LO: '-0000200'\n",
      "(0018, 1020) Software Versions                   LO: 'V3.51*P25'\n",
      "(0018, 1314) Flip Angle                          DS: '90.0'\n",
      "(0018, 5100) Patient Position                    CS: 'HFS'\n",
      "(0020, 000d) Study Instance UID                  UI: 1.3.6.1.4.1.5962.1.2.4.20040826185059.5457\n",
      "(0020, 000e) Series Instance UID                 UI: 1.3.6.1.4.1.5962.1.3.4.1.20040826185059.5457\n",
      "(0020, 0010) Study ID                            SH: '4MR1'\n",
      "(0020, 0011) Series Number                       IS: '1'\n",
      "(0020, 0012) Acquisition Number                  IS: '0'\n",
      "(0020, 0013) Instance Number                     IS: '1'\n",
      "(0020, 0032) Image Position (Patient)            DS: [-83.9063, -91.2000, 6.6406]\n",
      "(0020, 0037) Image Orientation (Patient)         DS: [1.0000, 0.0000, 0.0000, 0.0000, 1.0000, 0.0000]\n",
      "(0020, 0052) Frame of Reference UID              UI: 1.3.6.1.4.1.5962.1.4.4.1.20040826185059.5457\n",
      "(0020, 0060) Laterality                          CS: ''\n",
      "(0020, 1040) Position Reference Indicator        LO: ''\n",
      "(0020, 1041) Slice Location                      DS: '0.0'\n",
      "(0020, 4000) Image Comments                      LT: 'Uncompressed'\n",
      "(0028, 0002) Samples per Pixel                   US: 1\n",
      "(0028, 0004) Photometric Interpretation          CS: 'MONOCHROME2'\n",
      "(0028, 0010) Rows                                US: 64\n",
      "(0028, 0011) Columns                             US: 64\n",
      "(0028, 0030) Pixel Spacing                       DS: [0.3125, 0.3125]\n",
      "(0028, 0100) Bits Allocated                      US: 16\n",
      "(0028, 0101) Bits Stored                         US: 16\n",
      "(0028, 0102) High Bit                            US: 15\n",
      "(0028, 0103) Pixel Representation                US: 1\n",
      "(0028, 0106) Smallest Image Pixel Value          SS: 0\n",
      "(0028, 0107) Largest Image Pixel Value           SS: 4000\n",
      "(0028, 1050) Window Center                       DS: '600.0'\n",
      "(0028, 1051) Window Width                        DS: '1600.0'\n",
      "(7fe0, 0010) Pixel Data                          OW: Array of 8192 elements\n"
     ]
    }
   ],
   "source": [
    "print(test_file)"
   ]
  },
  {
   "cell_type": "markdown",
   "metadata": {},
   "source": [
    "Fortunately for us, this data is indeed anonymized: unless someone is really named \"CompressedSamples^MR1\". We then can list all the other metadata that can be read directly using the pydicom object API."
   ]
  },
  {
   "cell_type": "code",
   "execution_count": 4,
   "metadata": {},
   "outputs": [
    {
     "name": "stdout",
     "output_type": "stream",
     "text": [
      "CompressedSamples^MR1\n"
     ]
    },
    {
     "data": {
      "text/plain": [
       "['AccessionNumber',\n",
       " 'AcquisitionDate',\n",
       " 'AcquisitionNumber',\n",
       " 'AcquisitionTime',\n",
       " 'BitsAllocated',\n",
       " 'BitsStored',\n",
       " 'Columns',\n",
       " 'ContrastBolusAgent',\n",
       " 'DeviceSerialNumber',\n",
       " 'EchoNumbers',\n",
       " 'EchoTime',\n",
       " 'EchoTrainLength',\n",
       " 'FlipAngle',\n",
       " 'FrameOfReferenceUID',\n",
       " 'HighBit',\n",
       " 'ImageComments',\n",
       " 'ImageOrientationPatient',\n",
       " 'ImagePositionPatient',\n",
       " 'ImageType',\n",
       " 'ImagedNucleus',\n",
       " 'ImagingFrequency',\n",
       " 'InstanceCreationDate',\n",
       " 'InstanceCreationTime',\n",
       " 'InstanceCreatorUID',\n",
       " 'InstanceNumber',\n",
       " 'InstitutionName',\n",
       " 'LargestImagePixelValue',\n",
       " 'Laterality',\n",
       " 'MRAcquisitionType',\n",
       " 'Manufacturer',\n",
       " 'ManufacturerModelName',\n",
       " 'Modality',\n",
       " 'NameOfPhysiciansReadingStudy',\n",
       " 'NumberOfAverages',\n",
       " 'OperatorsName',\n",
       " 'PatientBirthDate',\n",
       " 'PatientID',\n",
       " 'PatientName',\n",
       " 'PatientPosition',\n",
       " 'PatientSex',\n",
       " 'PatientSize',\n",
       " 'PatientWeight',\n",
       " 'PhotometricInterpretation',\n",
       " 'PixelData',\n",
       " 'PixelRepresentation',\n",
       " 'PixelSpacing',\n",
       " 'PositionReferenceIndicator',\n",
       " 'ReferringPhysicianName',\n",
       " 'RepetitionTime',\n",
       " 'Rows',\n",
       " 'SOPClassUID',\n",
       " 'SOPInstanceUID',\n",
       " 'SamplesPerPixel',\n",
       " 'ScanOptions',\n",
       " 'ScanningSequence',\n",
       " 'SequenceVariant',\n",
       " 'SeriesDate',\n",
       " 'SeriesInstanceUID',\n",
       " 'SeriesNumber',\n",
       " 'SeriesTime',\n",
       " 'SliceLocation',\n",
       " 'SliceThickness',\n",
       " 'SmallestImagePixelValue',\n",
       " 'SoftwareVersions',\n",
       " 'StationName',\n",
       " 'StudyDate',\n",
       " 'StudyID',\n",
       " 'StudyInstanceUID',\n",
       " 'StudyTime',\n",
       " 'TimezoneOffsetFromUTC',\n",
       " 'WindowCenter',\n",
       " 'WindowWidth']"
      ]
     },
     "execution_count": 4,
     "metadata": {},
     "output_type": "execute_result"
    }
   ],
   "source": [
    "print(test_file.PatientName)\n",
    "\n",
    "[x for x in dir(test_file) if x[:1] != \"_\" and x[0] == x[0].upper()]"
   ]
  },
  {
   "cell_type": "markdown",
   "metadata": {},
   "source": [
    "Finally, the image data can be read using the 'PixelData' property."
   ]
  },
  {
   "cell_type": "code",
   "execution_count": 5,
   "metadata": {},
   "outputs": [
    {
     "data": {
      "text/plain": [
       "numpy.ndarray"
      ]
     },
     "execution_count": 5,
     "metadata": {},
     "output_type": "execute_result"
    }
   ],
   "source": [
    "image_data = test_file.pixel_array\n",
    "type(image_data)"
   ]
  },
  {
   "cell_type": "markdown",
   "metadata": {},
   "source": [
    "And finally, we display the image data using matplotlib."
   ]
  },
  {
   "cell_type": "code",
   "execution_count": 6,
   "metadata": {},
   "outputs": [
    {
     "data": {
      "text/plain": [
       "<matplotlib.image.AxesImage at 0x7fca006633a0>"
      ]
     },
     "execution_count": 6,
     "metadata": {},
     "output_type": "execute_result"
    },
    {
     "data": {
      "image/png": "[encoded data removed]",
      "text/plain": [
       "<Figure size 432x288 with 1 Axes>"
      ]
     },
     "metadata": {
      "needs_background": "light"
     },
     "output_type": "display_data"
    }
   ],
   "source": [
    "plt.imshow(image_data)"
   ]
  },
  {
   "cell_type": "markdown",
   "metadata": {},
   "source": [
    "More details about these pixels can be found in the following properties:"
   ]
  },
  {
   "cell_type": "code",
   "execution_count": 10,
   "metadata": {},
   "outputs": [
    {
     "name": "stdout",
     "output_type": "stream",
     "text": [
      "0.0000\n",
      "0.8000\n",
      "[1.0000, 0.0000, 0.0000, 0.0000, 1.0000, 0.0000]\n",
      "[-83.9063, -91.2000, 6.6406]\n",
      "['DERIVED', 'SECONDARY', 'OTHER']\n",
      "MR\n"
     ]
    }
   ],
   "source": [
    "print(test_file.SliceLocation)\n",
    "print(test_file.SliceThickness)\n",
    "print(test_file.ImageOrientationPatient)\n",
    "print(test_file.ImagePositionPatient)\n",
    "print(test_file.ImageType)\n",
    "print(test_file.Modality)"
   ]
  }
 ],
 "metadata": {
  "interpreter": {
   "hash": "2a5d638ab4dff39d5b51ac6453b6a8d014423e5972c31855be6b304570d35121"
  },
  "kernelspec": {
   "display_name": "Python 3.9.7 ('ub-deeplearning')",
   "language": "python",
   "name": "python3"
  },
  "language_info": {
   "codemirror_mode": {
    "name": "ipython",
    "version": 3
   },
   "file_extension": ".py",
   "mimetype": "text/x-python",
   "name": "python",
   "nbconvert_exporter": "python",
   "pygments_lexer": "ipython3",
   "version": "3.9.7"
  },
  "orig_nbformat": 4
 },
 "nbformat": 4,
 "nbformat_minor": 2
}
